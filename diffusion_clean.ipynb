{
  "cells": [
    {
      "cell_type": "markdown",
      "metadata": {
        "id": "view-in-github",
        "colab_type": "text"
      },
      "source": [
        "<a href=\"https://colab.research.google.com/github/gutsssssss/7150-final/blob/main/diffusion_clean.ipynb\" target=\"_parent\"><img src=\"https://colab.research.google.com/assets/colab-badge.svg\" alt=\"Open In Colab\"/></a>"
      ]
    },
    {
      "cell_type": "code",
      "execution_count": null,
      "metadata": {
        "id": "whv84Zjlmpo6"
      },
      "outputs": [],
      "source": [
        "from diffusers import AutoencoderKL, UNet2DConditionModel, DDIMScheduler\n",
        "from transformers import CLIPTextModel, CLIPTokenizer\n",
        "import torch\n",
        "\n",
        "model_id = \"stabilityai/stable-diffusion-2-1-base\"\n",
        "device = torch.device(\"cuda\" if torch.cuda.is_available() else \"cpu\")\n",
        "\n",
        "tokenizer = CLIPTokenizer.from_pretrained(model_id, subfolder=\"tokenizer\")\n",
        "text_encoder = CLIPTextModel.from_pretrained(model_id, subfolder=\"text_encoder\").to(device).eval()\n",
        "vae = AutoencoderKL.from_pretrained(model_id, subfolder=\"vae\").to(device).eval()\n",
        "unet = UNet2DConditionModel.from_pretrained(model_id, subfolder=\"unet\").to(device)\n",
        "scheduler = DDIMScheduler.from_pretrained(model_id, subfolder=\"scheduler\")\n",
        "\n",
        "# 冻结 VAE 和 text encoder 权重\n",
        "for p in vae.parameters():\n",
        "    p.requires_grad = False\n",
        "for p in text_encoder.parameters():\n",
        "    p.requires_grad = False\n"
      ]
    },
    {
      "cell_type": "code",
      "execution_count": null,
      "metadata": {
        "id": "NFDvrh74nj3P"
      },
      "outputs": [],
      "source": [
        "from datasets import load_dataset\n",
        "\n",
        "dataset = load_dataset(\"lambdalabs/naruto-blip-captions\", split=\"train[:500]\")\n"
      ]
    },
    {
      "cell_type": "code",
      "execution_count": null,
      "metadata": {
        "id": "XZRXW-5uoFxZ"
      },
      "outputs": [],
      "source": [
        "from torch.utils.data import Dataset\n",
        "import torchvision.transforms as T\n",
        "import torch\n",
        "\n",
        "class NarutoDataset(Dataset):\n",
        "    def __init__(self, dataset, tokenizer, text_encoder, vae, noise_scheduler, image_size=256):\n",
        "        self.dataset = dataset\n",
        "        self.tokenizer = tokenizer\n",
        "        self.text_encoder = text_encoder\n",
        "        self.vae = vae\n",
        "        self.noise_scheduler = noise_scheduler\n",
        "\n",
        "        self.image_transforms = T.Compose([\n",
        "            T.Resize((image_size, image_size)),\n",
        "            T.ToTensor(),\n",
        "            T.Normalize([0.5], [0.5]),\n",
        "        ])\n",
        "\n",
        "    def __len__(self):\n",
        "        return len(self.dataset)\n",
        "\n",
        "    def __getitem__(self, idx):\n",
        "        item = self.dataset[idx]\n",
        "        image = self.image_transforms(item[\"image\"])\n",
        "        caption = item[\"text\"]\n",
        "\n",
        "        # Tokenize + encode caption → encoder_hidden_states\n",
        "        tokenized = self.tokenizer(caption, padding=\"max_length\", max_length=77, return_tensors=\"pt\", truncation=True)\n",
        "        input_ids = tokenized.input_ids.to(self.vae.device)\n",
        "        with torch.no_grad():\n",
        "            encoder_hidden_states = self.text_encoder(input_ids)[0].squeeze(0).cpu()\n",
        "\n",
        "        # Encode image to latent\n",
        "        image = image.unsqueeze(0).to(self.vae.device)\n",
        "        with torch.no_grad():\n",
        "            latents = self.vae.encode(image * 2 - 1).latent_dist.sample() * 0.18215\n",
        "        latents = latents.squeeze(0).cpu()\n",
        "\n",
        "        # Add noise\n",
        "        noise = torch.randn_like(latents)\n",
        "        timesteps = torch.randint(0, self.noise_scheduler.config.num_train_timesteps, (1,), dtype=torch.long)\n",
        "        noisy_latents = self.noise_scheduler.add_noise(latents, noise, timesteps)\n",
        "\n",
        "        return {\n",
        "            \"noisy_latents\": noisy_latents,\n",
        "            \"timesteps\": timesteps.squeeze(0),\n",
        "            \"encoder_hidden_states\": encoder_hidden_states,\n",
        "            \"target_noise\": noise,\n",
        "        }\n"
      ]
    },
    {
      "cell_type": "code",
      "execution_count": null,
      "metadata": {
        "id": "Oh13e5Z5oPPs"
      },
      "outputs": [],
      "source": [
        "from torch.utils.data import DataLoader\n",
        "\n",
        "train_dataset = NarutoDataset(dataset, tokenizer, text_encoder, vae, scheduler)\n",
        "train_dataloader = DataLoader(train_dataset, batch_size=4, shuffle=True)\n"
      ]
    },
    {
      "cell_type": "code",
      "execution_count": null,
      "metadata": {
        "id": "yWVSewrDoTm4"
      },
      "outputs": [],
      "source": [
        "from torch.amp import autocast, GradScaler\n",
        "from torch import nn\n",
        "from tqdm import tqdm\n",
        "import gc\n",
        "\n",
        "optimizer = torch.optim.AdamW(unet.parameters(), lr=1e-5)\n",
        "loss_fn = nn.MSELoss()\n",
        "scaler = GradScaler()\n",
        "unet.train()\n",
        "\n",
        "for epoch in range(80):\n",
        "    pbar = tqdm(train_dataloader)\n",
        "    for step, batch in enumerate(pbar):\n",
        "        noisy_latents = batch[\"noisy_latents\"].to(device)\n",
        "        timesteps = batch[\"timesteps\"].to(device)\n",
        "        encoder_hidden_states = batch[\"encoder_hidden_states\"].to(device)\n",
        "        target = batch[\"target_noise\"].to(device)\n",
        "\n",
        "        with autocast(device_type=\"cuda\"):\n",
        "            noise_pred = unet(\n",
        "                noisy_latents,\n",
        "                timesteps,\n",
        "                encoder_hidden_states=encoder_hidden_states\n",
        "            ).sample\n",
        "            loss = loss_fn(noise_pred, target)\n",
        "\n",
        "        scaler.scale(loss).backward()\n",
        "        scaler.step(optimizer)\n",
        "        scaler.update()\n",
        "        optimizer.zero_grad()\n",
        "\n",
        "        # 🚿 显存清理\n",
        "        torch.cuda.empty_cache()\n",
        "        gc.collect()\n",
        "\n",
        "        pbar.set_description(f\"loss: {loss.item():.4f}\")\n"
      ]
    },
    {
      "cell_type": "code",
      "execution_count": null,
      "metadata": {
        "id": "QkOcVH5YwEGR"
      },
      "outputs": [],
      "source": [
        "# 保存 UNet 模型权重\n",
        "save_path = \"fine_tuned_unet\"\n",
        "unet.save_pretrained(save_path)"
      ]
    },
    {
      "cell_type": "code",
      "execution_count": null,
      "metadata": {
        "id": "DS0YvprYvT48"
      },
      "outputs": [],
      "source": [
        "import os\n",
        "\n",
        "print(os.listdir(\"/content/drive/MyDrive\"))"
      ]
    },
    {
      "cell_type": "code",
      "execution_count": null,
      "metadata": {
        "id": "rmRy5xv6u-Li"
      },
      "outputs": [],
      "source": [
        "import shutil\n",
        "import os\n",
        "\n",
        "shutil.copytree(\n",
        "    \"/content/drive/MyDrive/fine_tuned_unet\",\n",
        "    \"/content/fine_tuned_unet\",\n",
        "    dirs_exist_ok=True  # ✅ 如果目标目录已存在也允许拷贝（Python 3.8+）\n",
        ")"
      ]
    },
    {
      "cell_type": "code",
      "execution_count": null,
      "metadata": {
        "id": "cPLB8-qgwdxu"
      },
      "outputs": [],
      "source": [
        "from diffusers import StableDiffusionPipeline, UNet2DConditionModel\n",
        "import torch\n",
        "import os\n",
        "\n",
        "# 1. 设置提示词\n",
        "prompt = \"A girl wears red skirt\"\n",
        "\n",
        "# 2. 加载原始 SD 管线（fp16）\n",
        "pipe = StableDiffusionPipeline.from_pretrained(\n",
        "    \"stabilityai/stable-diffusion-2-1-base\",\n",
        "    torch_dtype=torch.float16\n",
        ").to(\"cuda\")\n",
        "\n",
        "# 3. 替换为微调后的 UNet\n",
        "fine_tuned_unet = UNet2DConditionModel.from_pretrained(\n",
        "    \"/content/drive/MyDrive/fine_tuned_unet\"\n",
        ").to(\"cuda\").half()\n",
        "pipe.unet = fine_tuned_unet\n",
        "\n",
        "# 4. 推理生成图像\n",
        "image = pipe(\n",
        "    prompt,\n",
        "    num_inference_steps=50,    # 越高图像越细致，推荐 30~50\n",
        "    guidance_scale=8         # 越高越贴近 prompt，推荐 7.0~10.0\n",
        ").images[0]\n",
        "\n",
        "# 5. 保存图像（自动命名）\n",
        "filename = prompt.replace(\" \", \"_\").replace(\",\", \"\")[:60] + \".png\"\n",
        "image.save(filename)\n"
      ]
    },
    {
      "cell_type": "code",
      "execution_count": null,
      "metadata": {
        "id": "hSO0HbD7KdNI"
      },
      "outputs": [],
      "source": [
        "from google.colab import drive\n",
        "drive.mount('/content/drive')\n",
        "\n",
        "unet.save_pretrained(\"/content/fine_tuned_unet\")\n"
      ]
    },
    {
      "cell_type": "code",
      "execution_count": null,
      "metadata": {
        "id": "KiCuZYhsse3S"
      },
      "outputs": [],
      "source": [
        "import os\n",
        "\n",
        "print(os.path.exists(\"/content/fine_tuned_unet\"))\n",
        "print(os.listdir(\"/content/fine_tuned_unet\"))"
      ]
    },
    {
      "cell_type": "code",
      "execution_count": null,
      "metadata": {
        "id": "hlaBjfINtG5y"
      },
      "outputs": [],
      "source": [
        "import shutil\n",
        "shutil.move(\"/content/fine_tuned_unet\", \"/content/drive/MyDrive/fine_tuned_unet\")"
      ]
    },
    {
      "cell_type": "code",
      "execution_count": null,
      "metadata": {
        "id": "ddBk-QWVtI7P"
      },
      "outputs": [],
      "source": [
        "print(os.listdir(\"/content/drive/MyDrive/fine_tuned_unet\"))"
      ]
    },
    {
      "cell_type": "code",
      "execution_count": null,
      "metadata": {
        "id": "_-ihGmPFvlw_"
      },
      "outputs": [],
      "source": [
        "shutil.copytree(\n",
        "    \"/content/drive/MyDrive/fine_tuned_unet\",\n",
        "    \"/content/fine_tuned_unet\",\n",
        "    dirs_exist_ok=True\n",
        ")\n"
      ]
    }
  ],
  "metadata": {
    "accelerator": "GPU",
    "colab": {
      "gpuType": "T4",
      "machine_shape": "hm",
      "provenance": [],
      "include_colab_link": true
    },
    "kernelspec": {
      "display_name": "Python 3",
      "name": "python3"
    },
    "language_info": {
      "name": "python"
    }
  },
  "nbformat": 4,
  "nbformat_minor": 0
}